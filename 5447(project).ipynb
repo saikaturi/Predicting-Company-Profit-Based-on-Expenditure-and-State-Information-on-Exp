{
 "cells": [
  {
   "cell_type": "markdown",
   "id": "721224b7-3208-45b0-b109-0fb25dc5e5e0",
   "metadata": {},
   "source": [
    "# Predicting Company Profit Based on Expenditure and State Information"
   ]
  },
  {
   "cell_type": "markdown",
   "id": "bc41ca72-58ab-4c8b-b9c0-d9dbd3887e05",
   "metadata": {},
   "source": [
    "### problem statement:"
   ]
  },
  {
   "cell_type": "markdown",
   "id": "2c9ca9a7-8fba-4919-b5fd-7c2c73ba2cd8",
   "metadata": {},
   "source": [
    "You have been provided with a dataset containing information about Productivity,Management,Promotions Expenditures and state,profit.\n",
    "your task is to analyze the relationship between the profit and expenditures  .Using simple regression,you aim to bulid a predicitive model\n",
    "to estimate the Predicting Company Profit Based on Expenditure and State Information\n",
    "\n"
   ]
  },
  {
   "cell_type": "markdown",
   "id": "2bed0207-f121-478d-9a85-71ec2cfc7309",
   "metadata": {},
   "source": [
    "#### Importing the libraries"
   ]
  },
  {
   "cell_type": "code",
   "execution_count": 49,
   "id": "df136fb1-f315-4574-9636-f4e8defefa9e",
   "metadata": {},
   "outputs": [],
   "source": [
    "import pandas as pd \n",
    "import numpy as np\n",
    "import matplotlib.pyplot as plt\n",
    "import seaborn as sns"
   ]
  },
  {
   "cell_type": "markdown",
   "id": "fa414f2a-f718-4c3e-951e-14d1c03ccd84",
   "metadata": {},
   "source": [
    "#### Import the dataset"
   ]
  },
  {
   "cell_type": "code",
   "execution_count": 50,
   "id": "79cfcb16-db4d-4c7b-8ba8-9e96c8d2f963",
   "metadata": {},
   "outputs": [],
   "source": [
    "df=pd.read_csv(\"companies.csv\")"
   ]
  },
  {
   "cell_type": "code",
   "execution_count": 51,
   "id": "e418a48e-4a8c-47be-86b7-77b44459cc0b",
   "metadata": {},
   "outputs": [
    {
     "data": {
      "text/html": [
       "<div>\n",
       "<style scoped>\n",
       "    .dataframe tbody tr th:only-of-type {\n",
       "        vertical-align: middle;\n",
       "    }\n",
       "\n",
       "    .dataframe tbody tr th {\n",
       "        vertical-align: top;\n",
       "    }\n",
       "\n",
       "    .dataframe thead th {\n",
       "        text-align: right;\n",
       "    }\n",
       "</style>\n",
       "<table border=\"1\" class=\"dataframe\">\n",
       "  <thead>\n",
       "    <tr style=\"text-align: right;\">\n",
       "      <th></th>\n",
       "      <th>Productivity_Exp</th>\n",
       "      <th>Management_Exp</th>\n",
       "      <th>Promotions_Exp</th>\n",
       "      <th>State</th>\n",
       "      <th>Profit</th>\n",
       "    </tr>\n",
       "  </thead>\n",
       "  <tbody>\n",
       "    <tr>\n",
       "      <th>0</th>\n",
       "      <td>220349.20</td>\n",
       "      <td>236897.80</td>\n",
       "      <td>521784.10</td>\n",
       "      <td>Texas</td>\n",
       "      <td>242261.83</td>\n",
       "    </tr>\n",
       "    <tr>\n",
       "      <th>1</th>\n",
       "      <td>217597.70</td>\n",
       "      <td>251377.59</td>\n",
       "      <td>493898.53</td>\n",
       "      <td>Illinois</td>\n",
       "      <td>241792.06</td>\n",
       "    </tr>\n",
       "    <tr>\n",
       "      <th>2</th>\n",
       "      <td>208441.51</td>\n",
       "      <td>201145.55</td>\n",
       "      <td>457934.54</td>\n",
       "      <td>Washington</td>\n",
       "      <td>241050.39</td>\n",
       "    </tr>\n",
       "    <tr>\n",
       "      <th>3</th>\n",
       "      <td>199372.41</td>\n",
       "      <td>218671.85</td>\n",
       "      <td>433199.62</td>\n",
       "      <td>Texas</td>\n",
       "      <td>232901.99</td>\n",
       "    </tr>\n",
       "    <tr>\n",
       "      <th>4</th>\n",
       "      <td>197107.34</td>\n",
       "      <td>191391.77</td>\n",
       "      <td>416168.42</td>\n",
       "      <td>Washington</td>\n",
       "      <td>216187.94</td>\n",
       "    </tr>\n",
       "  </tbody>\n",
       "</table>\n",
       "</div>"
      ],
      "text/plain": [
       "   Productivity_Exp  Management_Exp  Promotions_Exp       State     Profit\n",
       "0         220349.20       236897.80       521784.10       Texas  242261.83\n",
       "1         217597.70       251377.59       493898.53    Illinois  241792.06\n",
       "2         208441.51       201145.55       457934.54  Washington  241050.39\n",
       "3         199372.41       218671.85       433199.62       Texas  232901.99\n",
       "4         197107.34       191391.77       416168.42  Washington  216187.94"
      ]
     },
     "execution_count": 51,
     "metadata": {},
     "output_type": "execute_result"
    }
   ],
   "source": [
    "df.head()"
   ]
  },
  {
   "cell_type": "code",
   "execution_count": 52,
   "id": "762212e7-0d2f-4427-90e7-6b8f20ae7e0d",
   "metadata": {},
   "outputs": [
    {
     "data": {
      "text/html": [
       "<div>\n",
       "<style scoped>\n",
       "    .dataframe tbody tr th:only-of-type {\n",
       "        vertical-align: middle;\n",
       "    }\n",
       "\n",
       "    .dataframe tbody tr th {\n",
       "        vertical-align: top;\n",
       "    }\n",
       "\n",
       "    .dataframe thead th {\n",
       "        text-align: right;\n",
       "    }\n",
       "</style>\n",
       "<table border=\"1\" class=\"dataframe\">\n",
       "  <thead>\n",
       "    <tr style=\"text-align: right;\">\n",
       "      <th></th>\n",
       "      <th>Productivity_Exp</th>\n",
       "      <th>Management_Exp</th>\n",
       "      <th>Promotions_Exp</th>\n",
       "      <th>State</th>\n",
       "      <th>Profit</th>\n",
       "    </tr>\n",
       "  </thead>\n",
       "  <tbody>\n",
       "    <tr>\n",
       "      <th>45</th>\n",
       "      <td>56000.23</td>\n",
       "      <td>224153.04</td>\n",
       "      <td>51903.93</td>\n",
       "      <td>Texas</td>\n",
       "      <td>114926.08</td>\n",
       "    </tr>\n",
       "    <tr>\n",
       "      <th>46</th>\n",
       "      <td>56315.46</td>\n",
       "      <td>215816.21</td>\n",
       "      <td>347114.46</td>\n",
       "      <td>Washington</td>\n",
       "      <td>99490.75</td>\n",
       "    </tr>\n",
       "    <tr>\n",
       "      <th>47</th>\n",
       "      <td>55000.00</td>\n",
       "      <td>235426.92</td>\n",
       "      <td>50000.00</td>\n",
       "      <td>Illinois</td>\n",
       "      <td>92559.73</td>\n",
       "    </tr>\n",
       "    <tr>\n",
       "      <th>48</th>\n",
       "      <td>55542.05</td>\n",
       "      <td>151743.15</td>\n",
       "      <td>50000.00</td>\n",
       "      <td>Texas</td>\n",
       "      <td>85673.41</td>\n",
       "    </tr>\n",
       "    <tr>\n",
       "      <th>49</th>\n",
       "      <td>55000.00</td>\n",
       "      <td>216983.80</td>\n",
       "      <td>95173.06</td>\n",
       "      <td>Illinois</td>\n",
       "      <td>64681.40</td>\n",
       "    </tr>\n",
       "  </tbody>\n",
       "</table>\n",
       "</div>"
      ],
      "text/plain": [
       "    Productivity_Exp  Management_Exp  Promotions_Exp       State     Profit\n",
       "45          56000.23       224153.04        51903.93       Texas  114926.08\n",
       "46          56315.46       215816.21       347114.46  Washington   99490.75\n",
       "47          55000.00       235426.92        50000.00    Illinois   92559.73\n",
       "48          55542.05       151743.15        50000.00       Texas   85673.41\n",
       "49          55000.00       216983.80        95173.06    Illinois   64681.40"
      ]
     },
     "execution_count": 52,
     "metadata": {},
     "output_type": "execute_result"
    }
   ],
   "source": [
    "df.tail()"
   ]
  },
  {
   "cell_type": "code",
   "execution_count": 53,
   "id": "f6063117-be18-4037-962c-1d9cdcd0f4b6",
   "metadata": {},
   "outputs": [
    {
     "name": "stdout",
     "output_type": "stream",
     "text": [
      "<class 'pandas.core.frame.DataFrame'>\n",
      "RangeIndex: 50 entries, 0 to 49\n",
      "Data columns (total 5 columns):\n",
      " #   Column            Non-Null Count  Dtype  \n",
      "---  ------            --------------  -----  \n",
      " 0   Productivity_Exp  50 non-null     float64\n",
      " 1   Management_Exp    50 non-null     float64\n",
      " 2   Promotions_Exp    50 non-null     float64\n",
      " 3   State             50 non-null     object \n",
      " 4   Profit            50 non-null     float64\n",
      "dtypes: float64(4), object(1)\n",
      "memory usage: 2.1+ KB\n"
     ]
    }
   ],
   "source": [
    "df.info()"
   ]
  },
  {
   "cell_type": "code",
   "execution_count": 54,
   "id": "ec3dcce4-4643-4ab9-9ed4-f2e0a070b7e9",
   "metadata": {},
   "outputs": [
    {
     "data": {
      "text/html": [
       "<div>\n",
       "<style scoped>\n",
       "    .dataframe tbody tr th:only-of-type {\n",
       "        vertical-align: middle;\n",
       "    }\n",
       "\n",
       "    .dataframe tbody tr th {\n",
       "        vertical-align: top;\n",
       "    }\n",
       "\n",
       "    .dataframe thead th {\n",
       "        text-align: right;\n",
       "    }\n",
       "</style>\n",
       "<table border=\"1\" class=\"dataframe\">\n",
       "  <thead>\n",
       "    <tr style=\"text-align: right;\">\n",
       "      <th></th>\n",
       "      <th>Productivity_Exp</th>\n",
       "      <th>Management_Exp</th>\n",
       "      <th>Promotions_Exp</th>\n",
       "      <th>Profit</th>\n",
       "    </tr>\n",
       "  </thead>\n",
       "  <tbody>\n",
       "    <tr>\n",
       "      <th>count</th>\n",
       "      <td>50.000000</td>\n",
       "      <td>50.000000</td>\n",
       "      <td>50.000000</td>\n",
       "      <td>50.000000</td>\n",
       "    </tr>\n",
       "    <tr>\n",
       "      <th>mean</th>\n",
       "      <td>128721.615600</td>\n",
       "      <td>221344.639600</td>\n",
       "      <td>261025.097800</td>\n",
       "      <td>162012.639200</td>\n",
       "    </tr>\n",
       "    <tr>\n",
       "      <th>std</th>\n",
       "      <td>45902.256482</td>\n",
       "      <td>28017.802755</td>\n",
       "      <td>122290.310726</td>\n",
       "      <td>40306.180338</td>\n",
       "    </tr>\n",
       "    <tr>\n",
       "      <th>min</th>\n",
       "      <td>55000.000000</td>\n",
       "      <td>151283.140000</td>\n",
       "      <td>50000.000000</td>\n",
       "      <td>64681.400000</td>\n",
       "    </tr>\n",
       "    <tr>\n",
       "      <th>25%</th>\n",
       "      <td>94936.370000</td>\n",
       "      <td>203730.875000</td>\n",
       "      <td>179300.132500</td>\n",
       "      <td>140138.902500</td>\n",
       "    </tr>\n",
       "    <tr>\n",
       "      <th>50%</th>\n",
       "      <td>128051.080000</td>\n",
       "      <td>222699.795000</td>\n",
       "      <td>262716.240000</td>\n",
       "      <td>157978.190000</td>\n",
       "    </tr>\n",
       "    <tr>\n",
       "      <th>75%</th>\n",
       "      <td>156602.800000</td>\n",
       "      <td>244842.180000</td>\n",
       "      <td>349469.085000</td>\n",
       "      <td>189765.977500</td>\n",
       "    </tr>\n",
       "    <tr>\n",
       "      <th>max</th>\n",
       "      <td>220349.200000</td>\n",
       "      <td>282645.560000</td>\n",
       "      <td>521784.100000</td>\n",
       "      <td>242261.830000</td>\n",
       "    </tr>\n",
       "  </tbody>\n",
       "</table>\n",
       "</div>"
      ],
      "text/plain": [
       "       Productivity_Exp  Management_Exp  Promotions_Exp         Profit\n",
       "count         50.000000       50.000000       50.000000      50.000000\n",
       "mean      128721.615600   221344.639600   261025.097800  162012.639200\n",
       "std        45902.256482    28017.802755   122290.310726   40306.180338\n",
       "min        55000.000000   151283.140000    50000.000000   64681.400000\n",
       "25%        94936.370000   203730.875000   179300.132500  140138.902500\n",
       "50%       128051.080000   222699.795000   262716.240000  157978.190000\n",
       "75%       156602.800000   244842.180000   349469.085000  189765.977500\n",
       "max       220349.200000   282645.560000   521784.100000  242261.830000"
      ]
     },
     "execution_count": 54,
     "metadata": {},
     "output_type": "execute_result"
    }
   ],
   "source": [
    "df.describe()"
   ]
  },
  {
   "cell_type": "code",
   "execution_count": 55,
   "id": "98e999e7-70ba-4c98-b4c4-507497052532",
   "metadata": {},
   "outputs": [
    {
     "data": {
      "text/plain": [
       "(50, 5)"
      ]
     },
     "execution_count": 55,
     "metadata": {},
     "output_type": "execute_result"
    }
   ],
   "source": [
    "df.shape"
   ]
  },
  {
   "cell_type": "markdown",
   "id": "75b4b692-df6e-425c-9951-93dc4d058a20",
   "metadata": {},
   "source": [
    "#### Asking Questions to data"
   ]
  },
  {
   "cell_type": "code",
   "execution_count": null,
   "id": "c40c62af-f946-4826-8f36-2218e2daa91d",
   "metadata": {},
   "outputs": [],
   "source": [
    "1.productivity_exp and profit by using scatterplot\n",
    "2.Draw the kdeplot using Productivity_Exp"
   ]
  },
  {
   "cell_type": "markdown",
   "id": "781d6c2b-d91c-4d88-af0f-f24fba0a1284",
   "metadata": {},
   "source": [
    "# EDA"
   ]
  },
  {
   "cell_type": "code",
   "execution_count": 66,
   "id": "b266ac94-455f-4558-8082-6a24d4bd0edf",
   "metadata": {},
   "outputs": [
    {
     "data": {
      "text/plain": [
       "<Axes: xlabel='Productivity_Exp', ylabel='Profit'>"
      ]
     },
     "execution_count": 66,
     "metadata": {},
     "output_type": "execute_result"
    },
    {
     "data": {
      "image/png": "[encoded data removed]",
      "text/plain": [
       "<Figure size 640x480 with 1 Axes>"
      ]
     },
     "metadata": {},
     "output_type": "display_data"
    }
   ],
   "source": [
    "#1.productivity_exp and profit by using scatterplot \n",
    "sns.scatterplot(df,x=\"Productivity_Exp\",y=\"Profit\")"
   ]
  },
  {
   "cell_type": "code",
   "execution_count": 65,
   "id": "b6924e9f-79e1-4c2d-880b-c44dffa3b057",
   "metadata": {},
   "outputs": [
    {
     "data": {
      "text/plain": [
       "<Axes: xlabel='Productivity_Exp', ylabel='Density'>"
      ]
     },
     "execution_count": 65,
     "metadata": {},
     "output_type": "execute_result"
    },
    {
     "data": {
      "image/png": "[encoded data removed]",
      "text/plain": [
       "<Figure size 640x480 with 1 Axes>"
      ]
     },
     "metadata": {},
     "output_type": "display_data"
    }
   ],
   "source": [
    "#2.Draw the kdeplot using Productivity_Exp\n",
    "sns.kdeplot(data=df,x=\"Productivity_Exp\")"
   ]
  },
  {
   "cell_type": "markdown",
   "id": "b5d0c748-0c18-47f3-851a-277790d21e37",
   "metadata": {},
   "source": [
    "#### Converting the categorical to numerical using get_dummies"
   ]
  },
  {
   "cell_type": "code",
   "execution_count": 9,
   "id": "6e517954-3179-41ff-8668-48561b9e16eb",
   "metadata": {},
   "outputs": [],
   "source": [
    "data = pd.get_dummies(df,columns=['State'], drop_first=False)"
   ]
  },
  {
   "cell_type": "code",
   "execution_count": 10,
   "id": "7530dc5d-48b8-4bc2-b7a5-5274edff4a77",
   "metadata": {},
   "outputs": [
    {
     "data": {
      "text/html": [
       "<div>\n",
       "<style scoped>\n",
       "    .dataframe tbody tr th:only-of-type {\n",
       "        vertical-align: middle;\n",
       "    }\n",
       "\n",
       "    .dataframe tbody tr th {\n",
       "        vertical-align: top;\n",
       "    }\n",
       "\n",
       "    .dataframe thead th {\n",
       "        text-align: right;\n",
       "    }\n",
       "</style>\n",
       "<table border=\"1\" class=\"dataframe\">\n",
       "  <thead>\n",
       "    <tr style=\"text-align: right;\">\n",
       "      <th></th>\n",
       "      <th>Productivity_Exp</th>\n",
       "      <th>Management_Exp</th>\n",
       "      <th>Promotions_Exp</th>\n",
       "      <th>Profit</th>\n",
       "      <th>State_Illinois</th>\n",
       "      <th>State_Texas</th>\n",
       "      <th>State_Washington</th>\n",
       "    </tr>\n",
       "  </thead>\n",
       "  <tbody>\n",
       "    <tr>\n",
       "      <th>0</th>\n",
       "      <td>220349.20</td>\n",
       "      <td>236897.80</td>\n",
       "      <td>521784.10</td>\n",
       "      <td>242261.83</td>\n",
       "      <td>False</td>\n",
       "      <td>True</td>\n",
       "      <td>False</td>\n",
       "    </tr>\n",
       "    <tr>\n",
       "      <th>1</th>\n",
       "      <td>217597.70</td>\n",
       "      <td>251377.59</td>\n",
       "      <td>493898.53</td>\n",
       "      <td>241792.06</td>\n",
       "      <td>True</td>\n",
       "      <td>False</td>\n",
       "      <td>False</td>\n",
       "    </tr>\n",
       "    <tr>\n",
       "      <th>2</th>\n",
       "      <td>208441.51</td>\n",
       "      <td>201145.55</td>\n",
       "      <td>457934.54</td>\n",
       "      <td>241050.39</td>\n",
       "      <td>False</td>\n",
       "      <td>False</td>\n",
       "      <td>True</td>\n",
       "    </tr>\n",
       "    <tr>\n",
       "      <th>3</th>\n",
       "      <td>199372.41</td>\n",
       "      <td>218671.85</td>\n",
       "      <td>433199.62</td>\n",
       "      <td>232901.99</td>\n",
       "      <td>False</td>\n",
       "      <td>True</td>\n",
       "      <td>False</td>\n",
       "    </tr>\n",
       "    <tr>\n",
       "      <th>4</th>\n",
       "      <td>197107.34</td>\n",
       "      <td>191391.77</td>\n",
       "      <td>416168.42</td>\n",
       "      <td>216187.94</td>\n",
       "      <td>False</td>\n",
       "      <td>False</td>\n",
       "      <td>True</td>\n",
       "    </tr>\n",
       "  </tbody>\n",
       "</table>\n",
       "</div>"
      ],
      "text/plain": [
       "   Productivity_Exp  Management_Exp  Promotions_Exp     Profit  \\\n",
       "0         220349.20       236897.80       521784.10  242261.83   \n",
       "1         217597.70       251377.59       493898.53  241792.06   \n",
       "2         208441.51       201145.55       457934.54  241050.39   \n",
       "3         199372.41       218671.85       433199.62  232901.99   \n",
       "4         197107.34       191391.77       416168.42  216187.94   \n",
       "\n",
       "   State_Illinois  State_Texas  State_Washington  \n",
       "0           False         True             False  \n",
       "1            True        False             False  \n",
       "2           False        False              True  \n",
       "3           False         True             False  \n",
       "4           False        False              True  "
      ]
     },
     "execution_count": 10,
     "metadata": {},
     "output_type": "execute_result"
    }
   ],
   "source": [
    "data.head()"
   ]
  },
  {
   "cell_type": "markdown",
   "id": "bfe90f00-7633-4eb3-96c8-d88a7637acae",
   "metadata": {},
   "source": [
    "#### correlation"
   ]
  },
  {
   "cell_type": "code",
   "execution_count": 11,
   "id": "a8ae5cb0-9fcd-4a82-ae39-786010620055",
   "metadata": {},
   "outputs": [
    {
     "data": {
      "text/html": [
       "<div>\n",
       "<style scoped>\n",
       "    .dataframe tbody tr th:only-of-type {\n",
       "        vertical-align: middle;\n",
       "    }\n",
       "\n",
       "    .dataframe tbody tr th {\n",
       "        vertical-align: top;\n",
       "    }\n",
       "\n",
       "    .dataframe thead th {\n",
       "        text-align: right;\n",
       "    }\n",
       "</style>\n",
       "<table border=\"1\" class=\"dataframe\">\n",
       "  <thead>\n",
       "    <tr style=\"text-align: right;\">\n",
       "      <th></th>\n",
       "      <th>Productivity_Exp</th>\n",
       "      <th>Management_Exp</th>\n",
       "      <th>Promotions_Exp</th>\n",
       "      <th>Profit</th>\n",
       "      <th>State_Illinois</th>\n",
       "      <th>State_Texas</th>\n",
       "      <th>State_Washington</th>\n",
       "    </tr>\n",
       "  </thead>\n",
       "  <tbody>\n",
       "    <tr>\n",
       "      <th>Productivity_Exp</th>\n",
       "      <td>1.000000</td>\n",
       "      <td>0.241955</td>\n",
       "      <td>0.724248</td>\n",
       "      <td>0.972900</td>\n",
       "      <td>-0.143165</td>\n",
       "      <td>0.039068</td>\n",
       "      <td>0.105711</td>\n",
       "    </tr>\n",
       "    <tr>\n",
       "      <th>Management_Exp</th>\n",
       "      <td>0.241955</td>\n",
       "      <td>1.000000</td>\n",
       "      <td>-0.032154</td>\n",
       "      <td>0.200717</td>\n",
       "      <td>-0.015478</td>\n",
       "      <td>0.005145</td>\n",
       "      <td>0.010493</td>\n",
       "    </tr>\n",
       "    <tr>\n",
       "      <th>Promotions_Exp</th>\n",
       "      <td>0.724248</td>\n",
       "      <td>-0.032154</td>\n",
       "      <td>1.000000</td>\n",
       "      <td>0.747766</td>\n",
       "      <td>-0.168875</td>\n",
       "      <td>-0.033670</td>\n",
       "      <td>0.205685</td>\n",
       "    </tr>\n",
       "    <tr>\n",
       "      <th>Profit</th>\n",
       "      <td>0.972900</td>\n",
       "      <td>0.200717</td>\n",
       "      <td>0.747766</td>\n",
       "      <td>1.000000</td>\n",
       "      <td>-0.145837</td>\n",
       "      <td>0.031368</td>\n",
       "      <td>0.116244</td>\n",
       "    </tr>\n",
       "    <tr>\n",
       "      <th>State_Illinois</th>\n",
       "      <td>-0.143165</td>\n",
       "      <td>-0.015478</td>\n",
       "      <td>-0.168875</td>\n",
       "      <td>-0.145837</td>\n",
       "      <td>1.000000</td>\n",
       "      <td>-0.515152</td>\n",
       "      <td>-0.492366</td>\n",
       "    </tr>\n",
       "    <tr>\n",
       "      <th>State_Texas</th>\n",
       "      <td>0.039068</td>\n",
       "      <td>0.005145</td>\n",
       "      <td>-0.033670</td>\n",
       "      <td>0.031368</td>\n",
       "      <td>-0.515152</td>\n",
       "      <td>1.000000</td>\n",
       "      <td>-0.492366</td>\n",
       "    </tr>\n",
       "    <tr>\n",
       "      <th>State_Washington</th>\n",
       "      <td>0.105711</td>\n",
       "      <td>0.010493</td>\n",
       "      <td>0.205685</td>\n",
       "      <td>0.116244</td>\n",
       "      <td>-0.492366</td>\n",
       "      <td>-0.492366</td>\n",
       "      <td>1.000000</td>\n",
       "    </tr>\n",
       "  </tbody>\n",
       "</table>\n",
       "</div>"
      ],
      "text/plain": [
       "                  Productivity_Exp  Management_Exp  Promotions_Exp    Profit  \\\n",
       "Productivity_Exp          1.000000        0.241955        0.724248  0.972900   \n",
       "Management_Exp            0.241955        1.000000       -0.032154  0.200717   \n",
       "Promotions_Exp            0.724248       -0.032154        1.000000  0.747766   \n",
       "Profit                    0.972900        0.200717        0.747766  1.000000   \n",
       "State_Illinois           -0.143165       -0.015478       -0.168875 -0.145837   \n",
       "State_Texas               0.039068        0.005145       -0.033670  0.031368   \n",
       "State_Washington          0.105711        0.010493        0.205685  0.116244   \n",
       "\n",
       "                  State_Illinois  State_Texas  State_Washington  \n",
       "Productivity_Exp       -0.143165     0.039068          0.105711  \n",
       "Management_Exp         -0.015478     0.005145          0.010493  \n",
       "Promotions_Exp         -0.168875    -0.033670          0.205685  \n",
       "Profit                 -0.145837     0.031368          0.116244  \n",
       "State_Illinois          1.000000    -0.515152         -0.492366  \n",
       "State_Texas            -0.515152     1.000000         -0.492366  \n",
       "State_Washington       -0.492366    -0.492366          1.000000  "
      ]
     },
     "execution_count": 11,
     "metadata": {},
     "output_type": "execute_result"
    }
   ],
   "source": [
    "data.corr()"
   ]
  },
  {
   "cell_type": "markdown",
   "id": "aab6bd91-4d87-4fe5-8702-68c40274ad56",
   "metadata": {},
   "source": [
    "#### correlation of data1"
   ]
  },
  {
   "cell_type": "code",
   "execution_count": 12,
   "id": "87bea97b-e470-4698-bbe6-c3ee809963cf",
   "metadata": {},
   "outputs": [],
   "source": [
    "data1=data.drop(columns=['Profit'])"
   ]
  },
  {
   "cell_type": "code",
   "execution_count": 13,
   "id": "35df61b6-8e91-4577-8131-b8ed7fb30eb8",
   "metadata": {},
   "outputs": [
    {
     "data": {
      "text/html": [
       "<div>\n",
       "<style scoped>\n",
       "    .dataframe tbody tr th:only-of-type {\n",
       "        vertical-align: middle;\n",
       "    }\n",
       "\n",
       "    .dataframe tbody tr th {\n",
       "        vertical-align: top;\n",
       "    }\n",
       "\n",
       "    .dataframe thead th {\n",
       "        text-align: right;\n",
       "    }\n",
       "</style>\n",
       "<table border=\"1\" class=\"dataframe\">\n",
       "  <thead>\n",
       "    <tr style=\"text-align: right;\">\n",
       "      <th></th>\n",
       "      <th>Productivity_Exp</th>\n",
       "      <th>Management_Exp</th>\n",
       "      <th>Promotions_Exp</th>\n",
       "      <th>State_Illinois</th>\n",
       "      <th>State_Texas</th>\n",
       "      <th>State_Washington</th>\n",
       "    </tr>\n",
       "  </thead>\n",
       "  <tbody>\n",
       "    <tr>\n",
       "      <th>45</th>\n",
       "      <td>56000.23</td>\n",
       "      <td>224153.04</td>\n",
       "      <td>51903.93</td>\n",
       "      <td>False</td>\n",
       "      <td>True</td>\n",
       "      <td>False</td>\n",
       "    </tr>\n",
       "    <tr>\n",
       "      <th>46</th>\n",
       "      <td>56315.46</td>\n",
       "      <td>215816.21</td>\n",
       "      <td>347114.46</td>\n",
       "      <td>False</td>\n",
       "      <td>False</td>\n",
       "      <td>True</td>\n",
       "    </tr>\n",
       "    <tr>\n",
       "      <th>47</th>\n",
       "      <td>55000.00</td>\n",
       "      <td>235426.92</td>\n",
       "      <td>50000.00</td>\n",
       "      <td>True</td>\n",
       "      <td>False</td>\n",
       "      <td>False</td>\n",
       "    </tr>\n",
       "    <tr>\n",
       "      <th>48</th>\n",
       "      <td>55542.05</td>\n",
       "      <td>151743.15</td>\n",
       "      <td>50000.00</td>\n",
       "      <td>False</td>\n",
       "      <td>True</td>\n",
       "      <td>False</td>\n",
       "    </tr>\n",
       "    <tr>\n",
       "      <th>49</th>\n",
       "      <td>55000.00</td>\n",
       "      <td>216983.80</td>\n",
       "      <td>95173.06</td>\n",
       "      <td>True</td>\n",
       "      <td>False</td>\n",
       "      <td>False</td>\n",
       "    </tr>\n",
       "  </tbody>\n",
       "</table>\n",
       "</div>"
      ],
      "text/plain": [
       "    Productivity_Exp  Management_Exp  Promotions_Exp  State_Illinois  \\\n",
       "45          56000.23       224153.04        51903.93           False   \n",
       "46          56315.46       215816.21       347114.46           False   \n",
       "47          55000.00       235426.92        50000.00            True   \n",
       "48          55542.05       151743.15        50000.00           False   \n",
       "49          55000.00       216983.80        95173.06            True   \n",
       "\n",
       "    State_Texas  State_Washington  \n",
       "45         True             False  \n",
       "46        False              True  \n",
       "47        False             False  \n",
       "48         True             False  \n",
       "49        False             False  "
      ]
     },
     "execution_count": 13,
     "metadata": {},
     "output_type": "execute_result"
    }
   ],
   "source": [
    "data1.tail()"
   ]
  },
  {
   "cell_type": "code",
   "execution_count": 14,
   "id": "65f55c39-4a4c-4971-ae14-7e70880d6abd",
   "metadata": {},
   "outputs": [
    {
     "data": {
      "text/html": [
       "<div>\n",
       "<style scoped>\n",
       "    .dataframe tbody tr th:only-of-type {\n",
       "        vertical-align: middle;\n",
       "    }\n",
       "\n",
       "    .dataframe tbody tr th {\n",
       "        vertical-align: top;\n",
       "    }\n",
       "\n",
       "    .dataframe thead th {\n",
       "        text-align: right;\n",
       "    }\n",
       "</style>\n",
       "<table border=\"1\" class=\"dataframe\">\n",
       "  <thead>\n",
       "    <tr style=\"text-align: right;\">\n",
       "      <th></th>\n",
       "      <th>Productivity_Exp</th>\n",
       "      <th>Management_Exp</th>\n",
       "      <th>Promotions_Exp</th>\n",
       "      <th>State_Illinois</th>\n",
       "      <th>State_Texas</th>\n",
       "      <th>State_Washington</th>\n",
       "    </tr>\n",
       "  </thead>\n",
       "  <tbody>\n",
       "    <tr>\n",
       "      <th>0</th>\n",
       "      <td>220349.20</td>\n",
       "      <td>236897.80</td>\n",
       "      <td>521784.10</td>\n",
       "      <td>False</td>\n",
       "      <td>True</td>\n",
       "      <td>False</td>\n",
       "    </tr>\n",
       "    <tr>\n",
       "      <th>1</th>\n",
       "      <td>217597.70</td>\n",
       "      <td>251377.59</td>\n",
       "      <td>493898.53</td>\n",
       "      <td>True</td>\n",
       "      <td>False</td>\n",
       "      <td>False</td>\n",
       "    </tr>\n",
       "    <tr>\n",
       "      <th>2</th>\n",
       "      <td>208441.51</td>\n",
       "      <td>201145.55</td>\n",
       "      <td>457934.54</td>\n",
       "      <td>False</td>\n",
       "      <td>False</td>\n",
       "      <td>True</td>\n",
       "    </tr>\n",
       "    <tr>\n",
       "      <th>3</th>\n",
       "      <td>199372.41</td>\n",
       "      <td>218671.85</td>\n",
       "      <td>433199.62</td>\n",
       "      <td>False</td>\n",
       "      <td>True</td>\n",
       "      <td>False</td>\n",
       "    </tr>\n",
       "    <tr>\n",
       "      <th>4</th>\n",
       "      <td>197107.34</td>\n",
       "      <td>191391.77</td>\n",
       "      <td>416168.42</td>\n",
       "      <td>False</td>\n",
       "      <td>False</td>\n",
       "      <td>True</td>\n",
       "    </tr>\n",
       "  </tbody>\n",
       "</table>\n",
       "</div>"
      ],
      "text/plain": [
       "   Productivity_Exp  Management_Exp  Promotions_Exp  State_Illinois  \\\n",
       "0         220349.20       236897.80       521784.10           False   \n",
       "1         217597.70       251377.59       493898.53            True   \n",
       "2         208441.51       201145.55       457934.54           False   \n",
       "3         199372.41       218671.85       433199.62           False   \n",
       "4         197107.34       191391.77       416168.42           False   \n",
       "\n",
       "   State_Texas  State_Washington  \n",
       "0         True             False  \n",
       "1        False             False  \n",
       "2        False              True  \n",
       "3         True             False  \n",
       "4        False              True  "
      ]
     },
     "execution_count": 14,
     "metadata": {},
     "output_type": "execute_result"
    }
   ],
   "source": [
    "data1.head()"
   ]
  },
  {
   "cell_type": "markdown",
   "id": "297d1b00-d2ec-4984-b23e-0aa211ad01fb",
   "metadata": {},
   "source": [
    "#### correlation of data2"
   ]
  },
  {
   "cell_type": "code",
   "execution_count": 15,
   "id": "61e94f7f-d34f-46f9-9f6c-f2fed3bb0625",
   "metadata": {},
   "outputs": [],
   "source": [
    "data2=data.iloc[:,3:4]"
   ]
  },
  {
   "cell_type": "code",
   "execution_count": 16,
   "id": "edc1e6d2-8495-4fb1-a647-e234cc2acbc0",
   "metadata": {},
   "outputs": [
    {
     "data": {
      "text/html": [
       "<div>\n",
       "<style scoped>\n",
       "    .dataframe tbody tr th:only-of-type {\n",
       "        vertical-align: middle;\n",
       "    }\n",
       "\n",
       "    .dataframe tbody tr th {\n",
       "        vertical-align: top;\n",
       "    }\n",
       "\n",
       "    .dataframe thead th {\n",
       "        text-align: right;\n",
       "    }\n",
       "</style>\n",
       "<table border=\"1\" class=\"dataframe\">\n",
       "  <thead>\n",
       "    <tr style=\"text-align: right;\">\n",
       "      <th></th>\n",
       "      <th>Profit</th>\n",
       "    </tr>\n",
       "  </thead>\n",
       "  <tbody>\n",
       "    <tr>\n",
       "      <th>0</th>\n",
       "      <td>242261.83</td>\n",
       "    </tr>\n",
       "    <tr>\n",
       "      <th>1</th>\n",
       "      <td>241792.06</td>\n",
       "    </tr>\n",
       "    <tr>\n",
       "      <th>2</th>\n",
       "      <td>241050.39</td>\n",
       "    </tr>\n",
       "    <tr>\n",
       "      <th>3</th>\n",
       "      <td>232901.99</td>\n",
       "    </tr>\n",
       "    <tr>\n",
       "      <th>4</th>\n",
       "      <td>216187.94</td>\n",
       "    </tr>\n",
       "  </tbody>\n",
       "</table>\n",
       "</div>"
      ],
      "text/plain": [
       "      Profit\n",
       "0  242261.83\n",
       "1  241792.06\n",
       "2  241050.39\n",
       "3  232901.99\n",
       "4  216187.94"
      ]
     },
     "execution_count": 16,
     "metadata": {},
     "output_type": "execute_result"
    }
   ],
   "source": [
    "data2.head()"
   ]
  },
  {
   "cell_type": "markdown",
   "id": "65468ae4-2fa6-47d8-ba37-e5c6ae40695b",
   "metadata": {},
   "source": [
    "### train_test_split"
   ]
  },
  {
   "cell_type": "code",
   "execution_count": 17,
   "id": "a4a2ef29-1120-4db3-a29d-8dd27c079926",
   "metadata": {},
   "outputs": [],
   "source": [
    "from sklearn.model_selection import train_test_split\n",
    "x_train,x_test,y_train,y_test=train_test_split(data1,data2,test_size=0.2,random_state=2)"
   ]
  },
  {
   "cell_type": "code",
   "execution_count": 18,
   "id": "9ffa3347-1538-4140-a452-cd03fb617092",
   "metadata": {},
   "outputs": [
    {
     "data": {
      "text/html": [
       "<div>\n",
       "<style scoped>\n",
       "    .dataframe tbody tr th:only-of-type {\n",
       "        vertical-align: middle;\n",
       "    }\n",
       "\n",
       "    .dataframe tbody tr th {\n",
       "        vertical-align: top;\n",
       "    }\n",
       "\n",
       "    .dataframe thead th {\n",
       "        text-align: right;\n",
       "    }\n",
       "</style>\n",
       "<table border=\"1\" class=\"dataframe\">\n",
       "  <thead>\n",
       "    <tr style=\"text-align: right;\">\n",
       "      <th></th>\n",
       "      <th>Productivity_Exp</th>\n",
       "      <th>Management_Exp</th>\n",
       "      <th>Promotions_Exp</th>\n",
       "      <th>State_Illinois</th>\n",
       "      <th>State_Texas</th>\n",
       "      <th>State_Washington</th>\n",
       "    </tr>\n",
       "  </thead>\n",
       "  <tbody>\n",
       "    <tr>\n",
       "      <th>24</th>\n",
       "      <td>132044.01</td>\n",
       "      <td>199281.34</td>\n",
       "      <td>190574.81</td>\n",
       "      <td>False</td>\n",
       "      <td>True</td>\n",
       "      <td>False</td>\n",
       "    </tr>\n",
       "    <tr>\n",
       "      <th>48</th>\n",
       "      <td>55542.05</td>\n",
       "      <td>151743.15</td>\n",
       "      <td>50000.00</td>\n",
       "      <td>False</td>\n",
       "      <td>True</td>\n",
       "      <td>False</td>\n",
       "    </tr>\n",
       "    <tr>\n",
       "      <th>17</th>\n",
       "      <td>149657.16</td>\n",
       "      <td>245077.58</td>\n",
       "      <td>332574.31</td>\n",
       "      <td>False</td>\n",
       "      <td>True</td>\n",
       "      <td>False</td>\n",
       "    </tr>\n",
       "    <tr>\n",
       "      <th>12</th>\n",
       "      <td>148863.75</td>\n",
       "      <td>227320.38</td>\n",
       "      <td>299839.44</td>\n",
       "      <td>False</td>\n",
       "      <td>False</td>\n",
       "      <td>True</td>\n",
       "    </tr>\n",
       "    <tr>\n",
       "      <th>27</th>\n",
       "      <td>127107.60</td>\n",
       "      <td>227864.55</td>\n",
       "      <td>403183.81</td>\n",
       "      <td>False</td>\n",
       "      <td>True</td>\n",
       "      <td>False</td>\n",
       "    </tr>\n",
       "  </tbody>\n",
       "</table>\n",
       "</div>"
      ],
      "text/plain": [
       "    Productivity_Exp  Management_Exp  Promotions_Exp  State_Illinois  \\\n",
       "24         132044.01       199281.34       190574.81           False   \n",
       "48          55542.05       151743.15        50000.00           False   \n",
       "17         149657.16       245077.58       332574.31           False   \n",
       "12         148863.75       227320.38       299839.44           False   \n",
       "27         127107.60       227864.55       403183.81           False   \n",
       "\n",
       "    State_Texas  State_Washington  \n",
       "24         True             False  \n",
       "48         True             False  \n",
       "17         True             False  \n",
       "12        False              True  \n",
       "27         True             False  "
      ]
     },
     "execution_count": 18,
     "metadata": {},
     "output_type": "execute_result"
    }
   ],
   "source": [
    "x_train.head()"
   ]
  },
  {
   "cell_type": "code",
   "execution_count": 19,
   "id": "4d608662-732c-4f9a-8bf8-37b352f743f0",
   "metadata": {},
   "outputs": [
    {
     "data": {
      "text/html": [
       "<div>\n",
       "<style scoped>\n",
       "    .dataframe tbody tr th:only-of-type {\n",
       "        vertical-align: middle;\n",
       "    }\n",
       "\n",
       "    .dataframe tbody tr th {\n",
       "        vertical-align: top;\n",
       "    }\n",
       "\n",
       "    .dataframe thead th {\n",
       "        text-align: right;\n",
       "    }\n",
       "</style>\n",
       "<table border=\"1\" class=\"dataframe\">\n",
       "  <thead>\n",
       "    <tr style=\"text-align: right;\">\n",
       "      <th></th>\n",
       "      <th>Productivity_Exp</th>\n",
       "      <th>Management_Exp</th>\n",
       "      <th>Promotions_Exp</th>\n",
       "      <th>State_Illinois</th>\n",
       "      <th>State_Texas</th>\n",
       "      <th>State_Washington</th>\n",
       "    </tr>\n",
       "  </thead>\n",
       "  <tbody>\n",
       "    <tr>\n",
       "      <th>36</th>\n",
       "      <td>83663.76</td>\n",
       "      <td>227056.21</td>\n",
       "      <td>251126.82</td>\n",
       "      <td>False</td>\n",
       "      <td>False</td>\n",
       "      <td>True</td>\n",
       "    </tr>\n",
       "    <tr>\n",
       "      <th>47</th>\n",
       "      <td>55000.00</td>\n",
       "      <td>235426.92</td>\n",
       "      <td>50000.00</td>\n",
       "      <td>True</td>\n",
       "      <td>False</td>\n",
       "      <td>False</td>\n",
       "    </tr>\n",
       "    <tr>\n",
       "      <th>28</th>\n",
       "      <td>121051.52</td>\n",
       "      <td>282645.56</td>\n",
       "      <td>168148.20</td>\n",
       "      <td>False</td>\n",
       "      <td>False</td>\n",
       "      <td>True</td>\n",
       "    </tr>\n",
       "    <tr>\n",
       "      <th>9</th>\n",
       "      <td>178334.88</td>\n",
       "      <td>208679.17</td>\n",
       "      <td>354981.62</td>\n",
       "      <td>True</td>\n",
       "      <td>False</td>\n",
       "      <td>False</td>\n",
       "    </tr>\n",
       "    <tr>\n",
       "      <th>13</th>\n",
       "      <td>146992.39</td>\n",
       "      <td>235495.07</td>\n",
       "      <td>302664.93</td>\n",
       "      <td>True</td>\n",
       "      <td>False</td>\n",
       "      <td>False</td>\n",
       "    </tr>\n",
       "  </tbody>\n",
       "</table>\n",
       "</div>"
      ],
      "text/plain": [
       "    Productivity_Exp  Management_Exp  Promotions_Exp  State_Illinois  \\\n",
       "36          83663.76       227056.21       251126.82           False   \n",
       "47          55000.00       235426.92        50000.00            True   \n",
       "28         121051.52       282645.56       168148.20           False   \n",
       "9          178334.88       208679.17       354981.62            True   \n",
       "13         146992.39       235495.07       302664.93            True   \n",
       "\n",
       "    State_Texas  State_Washington  \n",
       "36        False              True  \n",
       "47        False             False  \n",
       "28        False              True  \n",
       "9         False             False  \n",
       "13        False             False  "
      ]
     },
     "execution_count": 19,
     "metadata": {},
     "output_type": "execute_result"
    }
   ],
   "source": [
    "x_test.head()"
   ]
  },
  {
   "cell_type": "code",
   "execution_count": 20,
   "id": "c9a35106-9872-4326-b3aa-a2aa434eee91",
   "metadata": {},
   "outputs": [
    {
     "data": {
      "text/plain": [
       "(40, 6)"
      ]
     },
     "execution_count": 20,
     "metadata": {},
     "output_type": "execute_result"
    }
   ],
   "source": [
    "x_train.shape"
   ]
  },
  {
   "cell_type": "code",
   "execution_count": 21,
   "id": "b3eb7b73-622f-4808-94e8-b11a333bcb6a",
   "metadata": {},
   "outputs": [
    {
     "data": {
      "text/plain": [
       "(10, 6)"
      ]
     },
     "execution_count": 21,
     "metadata": {},
     "output_type": "execute_result"
    }
   ],
   "source": [
    "x_test.shape"
   ]
  },
  {
   "cell_type": "markdown",
   "id": "77e2227c-4b04-4942-a53b-6b4c5de4ee72",
   "metadata": {},
   "source": [
    "### importing the LinearRegression"
   ]
  },
  {
   "cell_type": "code",
   "execution_count": 22,
   "id": "009b5f5a-4825-4e0b-8cd1-a145d354fa11",
   "metadata": {},
   "outputs": [],
   "source": [
    "from sklearn.linear_model import LinearRegression"
   ]
  },
  {
   "cell_type": "code",
   "execution_count": 23,
   "id": "16322ea7-29ec-444a-9feb-99af08315659",
   "metadata": {},
   "outputs": [],
   "source": [
    "lr=LinearRegression()"
   ]
  },
  {
   "cell_type": "code",
   "execution_count": 24,
   "id": "056139d0-db33-4d94-8e14-712cb7a15dff",
   "metadata": {},
   "outputs": [
    {
     "data": {
      "text/html": [
       "<div>\n",
       "<style scoped>\n",
       "    .dataframe tbody tr th:only-of-type {\n",
       "        vertical-align: middle;\n",
       "    }\n",
       "\n",
       "    .dataframe tbody tr th {\n",
       "        vertical-align: top;\n",
       "    }\n",
       "\n",
       "    .dataframe thead th {\n",
       "        text-align: right;\n",
       "    }\n",
       "</style>\n",
       "<table border=\"1\" class=\"dataframe\">\n",
       "  <thead>\n",
       "    <tr style=\"text-align: right;\">\n",
       "      <th></th>\n",
       "      <th>Productivity_Exp</th>\n",
       "      <th>Management_Exp</th>\n",
       "      <th>Promotions_Exp</th>\n",
       "      <th>State_Illinois</th>\n",
       "      <th>State_Texas</th>\n",
       "      <th>State_Washington</th>\n",
       "    </tr>\n",
       "  </thead>\n",
       "  <tbody>\n",
       "    <tr>\n",
       "      <th>24</th>\n",
       "      <td>132044.01</td>\n",
       "      <td>199281.34</td>\n",
       "      <td>190574.81</td>\n",
       "      <td>False</td>\n",
       "      <td>True</td>\n",
       "      <td>False</td>\n",
       "    </tr>\n",
       "    <tr>\n",
       "      <th>48</th>\n",
       "      <td>55542.05</td>\n",
       "      <td>151743.15</td>\n",
       "      <td>50000.00</td>\n",
       "      <td>False</td>\n",
       "      <td>True</td>\n",
       "      <td>False</td>\n",
       "    </tr>\n",
       "    <tr>\n",
       "      <th>17</th>\n",
       "      <td>149657.16</td>\n",
       "      <td>245077.58</td>\n",
       "      <td>332574.31</td>\n",
       "      <td>False</td>\n",
       "      <td>True</td>\n",
       "      <td>False</td>\n",
       "    </tr>\n",
       "    <tr>\n",
       "      <th>12</th>\n",
       "      <td>148863.75</td>\n",
       "      <td>227320.38</td>\n",
       "      <td>299839.44</td>\n",
       "      <td>False</td>\n",
       "      <td>False</td>\n",
       "      <td>True</td>\n",
       "    </tr>\n",
       "    <tr>\n",
       "      <th>27</th>\n",
       "      <td>127107.60</td>\n",
       "      <td>227864.55</td>\n",
       "      <td>403183.81</td>\n",
       "      <td>False</td>\n",
       "      <td>True</td>\n",
       "      <td>False</td>\n",
       "    </tr>\n",
       "  </tbody>\n",
       "</table>\n",
       "</div>"
      ],
      "text/plain": [
       "    Productivity_Exp  Management_Exp  Promotions_Exp  State_Illinois  \\\n",
       "24         132044.01       199281.34       190574.81           False   \n",
       "48          55542.05       151743.15        50000.00           False   \n",
       "17         149657.16       245077.58       332574.31           False   \n",
       "12         148863.75       227320.38       299839.44           False   \n",
       "27         127107.60       227864.55       403183.81           False   \n",
       "\n",
       "    State_Texas  State_Washington  \n",
       "24         True             False  \n",
       "48         True             False  \n",
       "17         True             False  \n",
       "12        False              True  \n",
       "27         True             False  "
      ]
     },
     "execution_count": 24,
     "metadata": {},
     "output_type": "execute_result"
    }
   ],
   "source": [
    "x_train.head()"
   ]
  },
  {
   "cell_type": "code",
   "execution_count": 25,
   "id": "076da2b8-bdbe-4d15-8a06-1fef28303cd4",
   "metadata": {},
   "outputs": [
    {
     "data": {
      "text/html": [
       "<div>\n",
       "<style scoped>\n",
       "    .dataframe tbody tr th:only-of-type {\n",
       "        vertical-align: middle;\n",
       "    }\n",
       "\n",
       "    .dataframe tbody tr th {\n",
       "        vertical-align: top;\n",
       "    }\n",
       "\n",
       "    .dataframe thead th {\n",
       "        text-align: right;\n",
       "    }\n",
       "</style>\n",
       "<table border=\"1\" class=\"dataframe\">\n",
       "  <thead>\n",
       "    <tr style=\"text-align: right;\">\n",
       "      <th></th>\n",
       "      <th>Profit</th>\n",
       "    </tr>\n",
       "  </thead>\n",
       "  <tbody>\n",
       "    <tr>\n",
       "      <th>24</th>\n",
       "      <td>158552.04</td>\n",
       "    </tr>\n",
       "    <tr>\n",
       "      <th>48</th>\n",
       "      <td>85673.41</td>\n",
       "    </tr>\n",
       "    <tr>\n",
       "      <th>17</th>\n",
       "      <td>175370.37</td>\n",
       "    </tr>\n",
       "    <tr>\n",
       "      <th>12</th>\n",
       "      <td>191585.52</td>\n",
       "    </tr>\n",
       "    <tr>\n",
       "      <th>27</th>\n",
       "      <td>155008.31</td>\n",
       "    </tr>\n",
       "  </tbody>\n",
       "</table>\n",
       "</div>"
      ],
      "text/plain": [
       "       Profit\n",
       "24  158552.04\n",
       "48   85673.41\n",
       "17  175370.37\n",
       "12  191585.52\n",
       "27  155008.31"
      ]
     },
     "execution_count": 25,
     "metadata": {},
     "output_type": "execute_result"
    }
   ],
   "source": [
    "y_train.head()"
   ]
  },
  {
   "cell_type": "markdown",
   "id": "fe6b2fcb-6a2f-4438-a994-97527cca8906",
   "metadata": {},
   "source": [
    "## Fit"
   ]
  },
  {
   "cell_type": "code",
   "execution_count": 26,
   "id": "f9a0f64c-7c48-41a1-9d96-ea2969646da4",
   "metadata": {},
   "outputs": [
    {
     "data": {
      "text/html": [
       "<style>#sk-container-id-1 {\n",
       "  /* Definition of color scheme common for light and dark mode */\n",
       "  --sklearn-color-text: black;\n",
       "  --sklearn-color-line: gray;\n",
       "  /* Definition of color scheme for unfitted estimators */\n",
       "  --sklearn-color-unfitted-level-0: #fff5e6;\n",
       "  --sklearn-color-unfitted-level-1: #f6e4d2;\n",
       "  --sklearn-color-unfitted-level-2: #ffe0b3;\n",
       "  --sklearn-color-unfitted-level-3: chocolate;\n",
       "  /* Definition of color scheme for fitted estimators */\n",
       "  --sklearn-color-fitted-level-0: #f0f8ff;\n",
       "  --sklearn-color-fitted-level-1: #d4ebff;\n",
       "  --sklearn-color-fitted-level-2: #b3dbfd;\n",
       "  --sklearn-color-fitted-level-3: cornflowerblue;\n",
       "\n",
       "  /* Specific color for light theme */\n",
       "  --sklearn-color-text-on-default-background: var(--sg-text-color, var(--theme-code-foreground, var(--jp-content-font-color1, black)));\n",
       "  --sklearn-color-background: var(--sg-background-color, var(--theme-background, var(--jp-layout-color0, white)));\n",
       "  --sklearn-color-border-box: var(--sg-text-color, var(--theme-code-foreground, var(--jp-content-font-color1, black)));\n",
       "  --sklearn-color-icon: #696969;\n",
       "\n",
       "  @media (prefers-color-scheme: dark) {\n",
       "    /* Redefinition of color scheme for dark theme */\n",
       "    --sklearn-color-text-on-default-background: var(--sg-text-color, var(--theme-code-foreground, var(--jp-content-font-color1, white)));\n",
       "    --sklearn-color-background: var(--sg-background-color, var(--theme-background, var(--jp-layout-color0, #111)));\n",
       "    --sklearn-color-border-box: var(--sg-text-color, var(--theme-code-foreground, var(--jp-content-font-color1, white)));\n",
       "    --sklearn-color-icon: #878787;\n",
       "  }\n",
       "}\n",
       "\n",
       "#sk-container-id-1 {\n",
       "  color: var(--sklearn-color-text);\n",
       "}\n",
       "\n",
       "#sk-container-id-1 pre {\n",
       "  padding: 0;\n",
       "}\n",
       "\n",
       "#sk-container-id-1 input.sk-hidden--visually {\n",
       "  border: 0;\n",
       "  clip: rect(1px 1px 1px 1px);\n",
       "  clip: rect(1px, 1px, 1px, 1px);\n",
       "  height: 1px;\n",
       "  margin: -1px;\n",
       "  overflow: hidden;\n",
       "  padding: 0;\n",
       "  position: absolute;\n",
       "  width: 1px;\n",
       "}\n",
       "\n",
       "#sk-container-id-1 div.sk-dashed-wrapped {\n",
       "  border: 1px dashed var(--sklearn-color-line);\n",
       "  margin: 0 0.4em 0.5em 0.4em;\n",
       "  box-sizing: border-box;\n",
       "  padding-bottom: 0.4em;\n",
       "  background-color: var(--sklearn-color-background);\n",
       "}\n",
       "\n",
       "#sk-container-id-1 div.sk-container {\n",
       "  /* jupyter's `normalize.less` sets `[hidden] { display: none; }`\n",
       "     but bootstrap.min.css set `[hidden] { display: none !important; }`\n",
       "     so we also need the `!important` here to be able to override the\n",
       "     default hidden behavior on the sphinx rendered scikit-learn.org.\n",
       "     See: https://github.com/scikit-learn/scikit-learn/issues/21755 */\n",
       "  display: inline-block !important;\n",
       "  position: relative;\n",
       "}\n",
       "\n",
       "#sk-container-id-1 div.sk-text-repr-fallback {\n",
       "  display: none;\n",
       "}\n",
       "\n",
       "div.sk-parallel-item,\n",
       "div.sk-serial,\n",
       "div.sk-item {\n",
       "  /* draw centered vertical line to link estimators */\n",
       "  background-image: linear-gradient(var(--sklearn-color-text-on-default-background), var(--sklearn-color-text-on-default-background));\n",
       "  background-size: 2px 100%;\n",
       "  background-repeat: no-repeat;\n",
       "  background-position: center center;\n",
       "}\n",
       "\n",
       "/* Parallel-specific style estimator block */\n",
       "\n",
       "#sk-container-id-1 div.sk-parallel-item::after {\n",
       "  content: \"\";\n",
       "  width: 100%;\n",
       "  border-bottom: 2px solid var(--sklearn-color-text-on-default-background);\n",
       "  flex-grow: 1;\n",
       "}\n",
       "\n",
       "#sk-container-id-1 div.sk-parallel {\n",
       "  display: flex;\n",
       "  align-items: stretch;\n",
       "  justify-content: center;\n",
       "  background-color: var(--sklearn-color-background);\n",
       "  position: relative;\n",
       "}\n",
       "\n",
       "#sk-container-id-1 div.sk-parallel-item {\n",
       "  display: flex;\n",
       "  flex-direction: column;\n",
       "}\n",
       "\n",
       "#sk-container-id-1 div.sk-parallel-item:first-child::after {\n",
       "  align-self: flex-end;\n",
       "  width: 50%;\n",
       "}\n",
       "\n",
       "#sk-container-id-1 div.sk-parallel-item:last-child::after {\n",
       "  align-self: flex-start;\n",
       "  width: 50%;\n",
       "}\n",
       "\n",
       "#sk-container-id-1 div.sk-parallel-item:only-child::after {\n",
       "  width: 0;\n",
       "}\n",
       "\n",
       "/* Serial-specific style estimator block */\n",
       "\n",
       "#sk-container-id-1 div.sk-serial {\n",
       "  display: flex;\n",
       "  flex-direction: column;\n",
       "  align-items: center;\n",
       "  background-color: var(--sklearn-color-background);\n",
       "  padding-right: 1em;\n",
       "  padding-left: 1em;\n",
       "}\n",
       "\n",
       "\n",
       "/* Toggleable style: style used for estimator/Pipeline/ColumnTransformer box that is\n",
       "clickable and can be expanded/collapsed.\n",
       "- Pipeline and ColumnTransformer use this feature and define the default style\n",
       "- Estimators will overwrite some part of the style using the `sk-estimator` class\n",
       "*/\n",
       "\n",
       "/* Pipeline and ColumnTransformer style (default) */\n",
       "\n",
       "#sk-container-id-1 div.sk-toggleable {\n",
       "  /* Default theme specific background. It is overwritten whether we have a\n",
       "  specific estimator or a Pipeline/ColumnTransformer */\n",
       "  background-color: var(--sklearn-color-background);\n",
       "}\n",
       "\n",
       "/* Toggleable label */\n",
       "#sk-container-id-1 label.sk-toggleable__label {\n",
       "  cursor: pointer;\n",
       "  display: block;\n",
       "  width: 100%;\n",
       "  margin-bottom: 0;\n",
       "  padding: 0.5em;\n",
       "  box-sizing: border-box;\n",
       "  text-align: center;\n",
       "}\n",
       "\n",
       "#sk-container-id-1 label.sk-toggleable__label-arrow:before {\n",
       "  /* Arrow on the left of the label */\n",
       "  content: \"▸\";\n",
       "  float: left;\n",
       "  margin-right: 0.25em;\n",
       "  color: var(--sklearn-color-icon);\n",
       "}\n",
       "\n",
       "#sk-container-id-1 label.sk-toggleable__label-arrow:hover:before {\n",
       "  color: var(--sklearn-color-text);\n",
       "}\n",
       "\n",
       "/* Toggleable content - dropdown */\n",
       "\n",
       "#sk-container-id-1 div.sk-toggleable__content {\n",
       "  max-height: 0;\n",
       "  max-width: 0;\n",
       "  overflow: hidden;\n",
       "  text-align: left;\n",
       "  /* unfitted */\n",
       "  background-color: var(--sklearn-color-unfitted-level-0);\n",
       "}\n",
       "\n",
       "#sk-container-id-1 div.sk-toggleable__content.fitted {\n",
       "  /* fitted */\n",
       "  background-color: var(--sklearn-color-fitted-level-0);\n",
       "}\n",
       "\n",
       "#sk-container-id-1 div.sk-toggleable__content pre {\n",
       "  margin: 0.2em;\n",
       "  border-radius: 0.25em;\n",
       "  color: var(--sklearn-color-text);\n",
       "  /* unfitted */\n",
       "  background-color: var(--sklearn-color-unfitted-level-0);\n",
       "}\n",
       "\n",
       "#sk-container-id-1 div.sk-toggleable__content.fitted pre {\n",
       "  /* unfitted */\n",
       "  background-color: var(--sklearn-color-fitted-level-0);\n",
       "}\n",
       "\n",
       "#sk-container-id-1 input.sk-toggleable__control:checked~div.sk-toggleable__content {\n",
       "  /* Expand drop-down */\n",
       "  max-height: 200px;\n",
       "  max-width: 100%;\n",
       "  overflow: auto;\n",
       "}\n",
       "\n",
       "#sk-container-id-1 input.sk-toggleable__control:checked~label.sk-toggleable__label-arrow:before {\n",
       "  content: \"▾\";\n",
       "}\n",
       "\n",
       "/* Pipeline/ColumnTransformer-specific style */\n",
       "\n",
       "#sk-container-id-1 div.sk-label input.sk-toggleable__control:checked~label.sk-toggleable__label {\n",
       "  color: var(--sklearn-color-text);\n",
       "  background-color: var(--sklearn-color-unfitted-level-2);\n",
       "}\n",
       "\n",
       "#sk-container-id-1 div.sk-label.fitted input.sk-toggleable__control:checked~label.sk-toggleable__label {\n",
       "  background-color: var(--sklearn-color-fitted-level-2);\n",
       "}\n",
       "\n",
       "/* Estimator-specific style */\n",
       "\n",
       "/* Colorize estimator box */\n",
       "#sk-container-id-1 div.sk-estimator input.sk-toggleable__control:checked~label.sk-toggleable__label {\n",
       "  /* unfitted */\n",
       "  background-color: var(--sklearn-color-unfitted-level-2);\n",
       "}\n",
       "\n",
       "#sk-container-id-1 div.sk-estimator.fitted input.sk-toggleable__control:checked~label.sk-toggleable__label {\n",
       "  /* fitted */\n",
       "  background-color: var(--sklearn-color-fitted-level-2);\n",
       "}\n",
       "\n",
       "#sk-container-id-1 div.sk-label label.sk-toggleable__label,\n",
       "#sk-container-id-1 div.sk-label label {\n",
       "  /* The background is the default theme color */\n",
       "  color: var(--sklearn-color-text-on-default-background);\n",
       "}\n",
       "\n",
       "/* On hover, darken the color of the background */\n",
       "#sk-container-id-1 div.sk-label:hover label.sk-toggleable__label {\n",
       "  color: var(--sklearn-color-text);\n",
       "  background-color: var(--sklearn-color-unfitted-level-2);\n",
       "}\n",
       "\n",
       "/* Label box, darken color on hover, fitted */\n",
       "#sk-container-id-1 div.sk-label.fitted:hover label.sk-toggleable__label.fitted {\n",
       "  color: var(--sklearn-color-text);\n",
       "  background-color: var(--sklearn-color-fitted-level-2);\n",
       "}\n",
       "\n",
       "/* Estimator label */\n",
       "\n",
       "#sk-container-id-1 div.sk-label label {\n",
       "  font-family: monospace;\n",
       "  font-weight: bold;\n",
       "  display: inline-block;\n",
       "  line-height: 1.2em;\n",
       "}\n",
       "\n",
       "#sk-container-id-1 div.sk-label-container {\n",
       "  text-align: center;\n",
       "}\n",
       "\n",
       "/* Estimator-specific */\n",
       "#sk-container-id-1 div.sk-estimator {\n",
       "  font-family: monospace;\n",
       "  border: 1px dotted var(--sklearn-color-border-box);\n",
       "  border-radius: 0.25em;\n",
       "  box-sizing: border-box;\n",
       "  margin-bottom: 0.5em;\n",
       "  /* unfitted */\n",
       "  background-color: var(--sklearn-color-unfitted-level-0);\n",
       "}\n",
       "\n",
       "#sk-container-id-1 div.sk-estimator.fitted {\n",
       "  /* fitted */\n",
       "  background-color: var(--sklearn-color-fitted-level-0);\n",
       "}\n",
       "\n",
       "/* on hover */\n",
       "#sk-container-id-1 div.sk-estimator:hover {\n",
       "  /* unfitted */\n",
       "  background-color: var(--sklearn-color-unfitted-level-2);\n",
       "}\n",
       "\n",
       "#sk-container-id-1 div.sk-estimator.fitted:hover {\n",
       "  /* fitted */\n",
       "  background-color: var(--sklearn-color-fitted-level-2);\n",
       "}\n",
       "\n",
       "/* Specification for estimator info (e.g. \"i\" and \"?\") */\n",
       "\n",
       "/* Common style for \"i\" and \"?\" */\n",
       "\n",
       ".sk-estimator-doc-link,\n",
       "a:link.sk-estimator-doc-link,\n",
       "a:visited.sk-estimator-doc-link {\n",
       "  float: right;\n",
       "  font-size: smaller;\n",
       "  line-height: 1em;\n",
       "  font-family: monospace;\n",
       "  background-color: var(--sklearn-color-background);\n",
       "  border-radius: 1em;\n",
       "  height: 1em;\n",
       "  width: 1em;\n",
       "  text-decoration: none !important;\n",
       "  margin-left: 1ex;\n",
       "  /* unfitted */\n",
       "  border: var(--sklearn-color-unfitted-level-1) 1pt solid;\n",
       "  color: var(--sklearn-color-unfitted-level-1);\n",
       "}\n",
       "\n",
       ".sk-estimator-doc-link.fitted,\n",
       "a:link.sk-estimator-doc-link.fitted,\n",
       "a:visited.sk-estimator-doc-link.fitted {\n",
       "  /* fitted */\n",
       "  border: var(--sklearn-color-fitted-level-1) 1pt solid;\n",
       "  color: var(--sklearn-color-fitted-level-1);\n",
       "}\n",
       "\n",
       "/* On hover */\n",
       "div.sk-estimator:hover .sk-estimator-doc-link:hover,\n",
       ".sk-estimator-doc-link:hover,\n",
       "div.sk-label-container:hover .sk-estimator-doc-link:hover,\n",
       ".sk-estimator-doc-link:hover {\n",
       "  /* unfitted */\n",
       "  background-color: var(--sklearn-color-unfitted-level-3);\n",
       "  color: var(--sklearn-color-background);\n",
       "  text-decoration: none;\n",
       "}\n",
       "\n",
       "div.sk-estimator.fitted:hover .sk-estimator-doc-link.fitted:hover,\n",
       ".sk-estimator-doc-link.fitted:hover,\n",
       "div.sk-label-container:hover .sk-estimator-doc-link.fitted:hover,\n",
       ".sk-estimator-doc-link.fitted:hover {\n",
       "  /* fitted */\n",
       "  background-color: var(--sklearn-color-fitted-level-3);\n",
       "  color: var(--sklearn-color-background);\n",
       "  text-decoration: none;\n",
       "}\n",
       "\n",
       "/* Span, style for the box shown on hovering the info icon */\n",
       ".sk-estimator-doc-link span {\n",
       "  display: none;\n",
       "  z-index: 9999;\n",
       "  position: relative;\n",
       "  font-weight: normal;\n",
       "  right: .2ex;\n",
       "  padding: .5ex;\n",
       "  margin: .5ex;\n",
       "  width: min-content;\n",
       "  min-width: 20ex;\n",
       "  max-width: 50ex;\n",
       "  color: var(--sklearn-color-text);\n",
       "  box-shadow: 2pt 2pt 4pt #999;\n",
       "  /* unfitted */\n",
       "  background: var(--sklearn-color-unfitted-level-0);\n",
       "  border: .5pt solid var(--sklearn-color-unfitted-level-3);\n",
       "}\n",
       "\n",
       ".sk-estimator-doc-link.fitted span {\n",
       "  /* fitted */\n",
       "  background: var(--sklearn-color-fitted-level-0);\n",
       "  border: var(--sklearn-color-fitted-level-3);\n",
       "}\n",
       "\n",
       ".sk-estimator-doc-link:hover span {\n",
       "  display: block;\n",
       "}\n",
       "\n",
       "/* \"?\"-specific style due to the `<a>` HTML tag */\n",
       "\n",
       "#sk-container-id-1 a.estimator_doc_link {\n",
       "  float: right;\n",
       "  font-size: 1rem;\n",
       "  line-height: 1em;\n",
       "  font-family: monospace;\n",
       "  background-color: var(--sklearn-color-background);\n",
       "  border-radius: 1rem;\n",
       "  height: 1rem;\n",
       "  width: 1rem;\n",
       "  text-decoration: none;\n",
       "  /* unfitted */\n",
       "  color: var(--sklearn-color-unfitted-level-1);\n",
       "  border: var(--sklearn-color-unfitted-level-1) 1pt solid;\n",
       "}\n",
       "\n",
       "#sk-container-id-1 a.estimator_doc_link.fitted {\n",
       "  /* fitted */\n",
       "  border: var(--sklearn-color-fitted-level-1) 1pt solid;\n",
       "  color: var(--sklearn-color-fitted-level-1);\n",
       "}\n",
       "\n",
       "/* On hover */\n",
       "#sk-container-id-1 a.estimator_doc_link:hover {\n",
       "  /* unfitted */\n",
       "  background-color: var(--sklearn-color-unfitted-level-3);\n",
       "  color: var(--sklearn-color-background);\n",
       "  text-decoration: none;\n",
       "}\n",
       "\n",
       "#sk-container-id-1 a.estimator_doc_link.fitted:hover {\n",
       "  /* fitted */\n",
       "  background-color: var(--sklearn-color-fitted-level-3);\n",
       "}\n",
       "</style><div id=\"sk-container-id-1\" class=\"sk-top-container\"><div class=\"sk-text-repr-fallback\"><pre>LinearRegression()</pre><b>In a Jupyter environment, please rerun this cell to show the HTML representation or trust the notebook. <br />On GitHub, the HTML representation is unable to render, please try loading this page with nbviewer.org.</b></div><div class=\"sk-container\" hidden><div class=\"sk-item\"><div class=\"sk-estimator fitted sk-toggleable\"><input class=\"sk-toggleable__control sk-hidden--visually\" id=\"sk-estimator-id-1\" type=\"checkbox\" checked><label for=\"sk-estimator-id-1\" class=\"sk-toggleable__label fitted sk-toggleable__label-arrow fitted\">&nbsp;&nbsp;LinearRegression<a class=\"sk-estimator-doc-link fitted\" rel=\"noreferrer\" target=\"_blank\" href=\"https://scikit-learn.org/1.5/modules/generated/sklearn.linear_model.LinearRegression.html\">?<span>Documentation for LinearRegression</span></a><span class=\"sk-estimator-doc-link fitted\">i<span>Fitted</span></span></label><div class=\"sk-toggleable__content fitted\"><pre>LinearRegression()</pre></div> </div></div></div></div>"
      ],
      "text/plain": [
       "LinearRegression()"
      ]
     },
     "execution_count": 26,
     "metadata": {},
     "output_type": "execute_result"
    }
   ],
   "source": [
    "lr.fit(x_train,y_train)"
   ]
  },
  {
   "cell_type": "code",
   "execution_count": 27,
   "id": "3c8ac0b0-b277-4fc5-813d-ff5f2b487d40",
   "metadata": {},
   "outputs": [
    {
     "data": {
      "text/html": [
       "<div>\n",
       "<style scoped>\n",
       "    .dataframe tbody tr th:only-of-type {\n",
       "        vertical-align: middle;\n",
       "    }\n",
       "\n",
       "    .dataframe tbody tr th {\n",
       "        vertical-align: top;\n",
       "    }\n",
       "\n",
       "    .dataframe thead th {\n",
       "        text-align: right;\n",
       "    }\n",
       "</style>\n",
       "<table border=\"1\" class=\"dataframe\">\n",
       "  <thead>\n",
       "    <tr style=\"text-align: right;\">\n",
       "      <th></th>\n",
       "      <th>Productivity_Exp</th>\n",
       "      <th>Management_Exp</th>\n",
       "      <th>Promotions_Exp</th>\n",
       "      <th>State_Illinois</th>\n",
       "      <th>State_Texas</th>\n",
       "      <th>State_Washington</th>\n",
       "    </tr>\n",
       "  </thead>\n",
       "  <tbody>\n",
       "    <tr>\n",
       "      <th>36</th>\n",
       "      <td>83663.76</td>\n",
       "      <td>227056.21</td>\n",
       "      <td>251126.82</td>\n",
       "      <td>False</td>\n",
       "      <td>False</td>\n",
       "      <td>True</td>\n",
       "    </tr>\n",
       "    <tr>\n",
       "      <th>47</th>\n",
       "      <td>55000.00</td>\n",
       "      <td>235426.92</td>\n",
       "      <td>50000.00</td>\n",
       "      <td>True</td>\n",
       "      <td>False</td>\n",
       "      <td>False</td>\n",
       "    </tr>\n",
       "    <tr>\n",
       "      <th>28</th>\n",
       "      <td>121051.52</td>\n",
       "      <td>282645.56</td>\n",
       "      <td>168148.20</td>\n",
       "      <td>False</td>\n",
       "      <td>False</td>\n",
       "      <td>True</td>\n",
       "    </tr>\n",
       "    <tr>\n",
       "      <th>9</th>\n",
       "      <td>178334.88</td>\n",
       "      <td>208679.17</td>\n",
       "      <td>354981.62</td>\n",
       "      <td>True</td>\n",
       "      <td>False</td>\n",
       "      <td>False</td>\n",
       "    </tr>\n",
       "    <tr>\n",
       "      <th>13</th>\n",
       "      <td>146992.39</td>\n",
       "      <td>235495.07</td>\n",
       "      <td>302664.93</td>\n",
       "      <td>True</td>\n",
       "      <td>False</td>\n",
       "      <td>False</td>\n",
       "    </tr>\n",
       "    <tr>\n",
       "      <th>0</th>\n",
       "      <td>220349.20</td>\n",
       "      <td>236897.80</td>\n",
       "      <td>521784.10</td>\n",
       "      <td>False</td>\n",
       "      <td>True</td>\n",
       "      <td>False</td>\n",
       "    </tr>\n",
       "    <tr>\n",
       "      <th>44</th>\n",
       "      <td>77177.74</td>\n",
       "      <td>254806.14</td>\n",
       "      <td>78334.72</td>\n",
       "      <td>True</td>\n",
       "      <td>False</td>\n",
       "      <td>False</td>\n",
       "    </tr>\n",
       "    <tr>\n",
       "      <th>46</th>\n",
       "      <td>56315.46</td>\n",
       "      <td>215816.21</td>\n",
       "      <td>347114.46</td>\n",
       "      <td>False</td>\n",
       "      <td>False</td>\n",
       "      <td>True</td>\n",
       "    </tr>\n",
       "    <tr>\n",
       "      <th>39</th>\n",
       "      <td>93558.51</td>\n",
       "      <td>182982.09</td>\n",
       "      <td>224999.30</td>\n",
       "      <td>True</td>\n",
       "      <td>False</td>\n",
       "      <td>False</td>\n",
       "    </tr>\n",
       "    <tr>\n",
       "      <th>23</th>\n",
       "      <td>122532.53</td>\n",
       "      <td>205751.03</td>\n",
       "      <td>354768.73</td>\n",
       "      <td>False</td>\n",
       "      <td>False</td>\n",
       "      <td>True</td>\n",
       "    </tr>\n",
       "  </tbody>\n",
       "</table>\n",
       "</div>"
      ],
      "text/plain": [
       "    Productivity_Exp  Management_Exp  Promotions_Exp  State_Illinois  \\\n",
       "36          83663.76       227056.21       251126.82           False   \n",
       "47          55000.00       235426.92        50000.00            True   \n",
       "28         121051.52       282645.56       168148.20           False   \n",
       "9          178334.88       208679.17       354981.62            True   \n",
       "13         146992.39       235495.07       302664.93            True   \n",
       "0          220349.20       236897.80       521784.10           False   \n",
       "44          77177.74       254806.14        78334.72            True   \n",
       "46          56315.46       215816.21       347114.46           False   \n",
       "39          93558.51       182982.09       224999.30            True   \n",
       "23         122532.53       205751.03       354768.73           False   \n",
       "\n",
       "    State_Texas  State_Washington  \n",
       "36        False              True  \n",
       "47        False             False  \n",
       "28        False              True  \n",
       "9         False             False  \n",
       "13        False             False  \n",
       "0          True             False  \n",
       "44        False             False  \n",
       "46        False              True  \n",
       "39        False             False  \n",
       "23        False              True  "
      ]
     },
     "execution_count": 27,
     "metadata": {},
     "output_type": "execute_result"
    }
   ],
   "source": [
    "x_test"
   ]
  },
  {
   "cell_type": "code",
   "execution_count": 28,
   "id": "6616f663-60a7-4ded-aeef-7c2f88d14d0f",
   "metadata": {},
   "outputs": [
    {
     "name": "stderr",
     "output_type": "stream",
     "text": [
      "C:\\Users\\saika\\AppData\\Local\\Programs\\Python\\Python312\\Lib\\site-packages\\sklearn\\base.py:493: UserWarning: X does not have valid feature names, but LinearRegression was fitted with feature names\n",
      "  warnings.warn(\n"
     ]
    },
    {
     "data": {
      "text/plain": [
       "array([[104934.73902582]])"
      ]
     },
     "execution_count": 28,
     "metadata": {},
     "output_type": "execute_result"
    }
   ],
   "source": [
    "lr.predict([[56315,215816.61,347114,0,0,1]])"
   ]
  },
  {
   "cell_type": "code",
   "execution_count": 29,
   "id": "e535aad3-17b5-4f59-b0cb-6011526a0c36",
   "metadata": {},
   "outputs": [
    {
     "data": {
      "text/html": [
       "<div>\n",
       "<style scoped>\n",
       "    .dataframe tbody tr th:only-of-type {\n",
       "        vertical-align: middle;\n",
       "    }\n",
       "\n",
       "    .dataframe tbody tr th {\n",
       "        vertical-align: top;\n",
       "    }\n",
       "\n",
       "    .dataframe thead th {\n",
       "        text-align: right;\n",
       "    }\n",
       "</style>\n",
       "<table border=\"1\" class=\"dataframe\">\n",
       "  <thead>\n",
       "    <tr style=\"text-align: right;\">\n",
       "      <th></th>\n",
       "      <th>Profit</th>\n",
       "    </tr>\n",
       "  </thead>\n",
       "  <tbody>\n",
       "    <tr>\n",
       "      <th>36</th>\n",
       "      <td>140708.19</td>\n",
       "    </tr>\n",
       "    <tr>\n",
       "      <th>47</th>\n",
       "      <td>92559.73</td>\n",
       "    </tr>\n",
       "    <tr>\n",
       "      <th>28</th>\n",
       "      <td>153282.38</td>\n",
       "    </tr>\n",
       "    <tr>\n",
       "      <th>9</th>\n",
       "      <td>199759.96</td>\n",
       "    </tr>\n",
       "    <tr>\n",
       "      <th>13</th>\n",
       "      <td>184307.35</td>\n",
       "    </tr>\n",
       "    <tr>\n",
       "      <th>0</th>\n",
       "      <td>242261.83</td>\n",
       "    </tr>\n",
       "    <tr>\n",
       "      <th>44</th>\n",
       "      <td>115200.33</td>\n",
       "    </tr>\n",
       "    <tr>\n",
       "      <th>46</th>\n",
       "      <td>99490.75</td>\n",
       "    </tr>\n",
       "    <tr>\n",
       "      <th>39</th>\n",
       "      <td>131005.76</td>\n",
       "    </tr>\n",
       "    <tr>\n",
       "      <th>23</th>\n",
       "      <td>158733.99</td>\n",
       "    </tr>\n",
       "  </tbody>\n",
       "</table>\n",
       "</div>"
      ],
      "text/plain": [
       "       Profit\n",
       "36  140708.19\n",
       "47   92559.73\n",
       "28  153282.38\n",
       "9   199759.96\n",
       "13  184307.35\n",
       "0   242261.83\n",
       "44  115200.33\n",
       "46   99490.75\n",
       "39  131005.76\n",
       "23  158733.99"
      ]
     },
     "execution_count": 29,
     "metadata": {},
     "output_type": "execute_result"
    }
   ],
   "source": [
    "y_test"
   ]
  },
  {
   "cell_type": "markdown",
   "id": "67d4aca8-3a7f-4e37-ac97-cf3a08a3cf8b",
   "metadata": {},
   "source": [
    "### pairplot()"
   ]
  },
  {
   "cell_type": "code",
   "execution_count": 30,
   "id": "501352f3-441f-4613-9dbf-fa0f942d219b",
   "metadata": {},
   "outputs": [
    {
     "data": {
      "text/plain": [
       "<seaborn.axisgrid.PairGrid at 0x1c3469b82f0>"
      ]
     },
     "execution_count": 30,
     "metadata": {},
     "output_type": "execute_result"
    },
    {
     "data": {
      "image/png": "[encoded data removed]",
      "text/plain": [
       "<Figure size 1000x1000 with 20 Axes>"
      ]
     },
     "metadata": {},
     "output_type": "display_data"
    }
   ],
   "source": [
    "sns.pairplot(data, vars=['Productivity_Exp', 'Management_Exp', 'Promotions_Exp', 'Profit'])"
   ]
  },
  {
   "cell_type": "markdown",
   "id": "61fd98c1-f415-4d4e-aa84-5b0935ffe605",
   "metadata": {},
   "source": [
    "## Model Evaluation"
   ]
  },
  {
   "cell_type": "code",
   "execution_count": 31,
   "id": "05cf5dfb-f195-421b-8194-ccf0482b01c1",
   "metadata": {},
   "outputs": [],
   "source": [
    "from sklearn .metrics import mean_absolute_error,mean_squared_error,r2_score"
   ]
  },
  {
   "cell_type": "code",
   "execution_count": 32,
   "id": "11565571-5815-463b-b534-4d0912561dce",
   "metadata": {},
   "outputs": [],
   "source": [
    "y_pred=lr.predict(x_test)"
   ]
  },
  {
   "cell_type": "code",
   "execution_count": 33,
   "id": "798a0c66-4538-4c2a-b9ab-8557e28585f8",
   "metadata": {},
   "outputs": [
    {
     "data": {
      "text/plain": [
       "array([[124061.28471146],\n",
       "       [ 96009.23798771],\n",
       "       [149637.26360778],\n",
       "       [205786.53229364],\n",
       "       [177636.76349543],\n",
       "       [242765.18597815],\n",
       "       [113906.99972437],\n",
       "       [104935.14415875],\n",
       "       [134532.35238001],\n",
       "       [159460.29711996]])"
      ]
     },
     "execution_count": 33,
     "metadata": {},
     "output_type": "execute_result"
    }
   ],
   "source": [
    "y_pred"
   ]
  },
  {
   "cell_type": "code",
   "execution_count": 34,
   "id": "a4cedb86-f896-416f-aee1-669758237620",
   "metadata": {},
   "outputs": [
    {
     "data": {
      "text/plain": [
       "array([[140708.19],\n",
       "       [ 92559.73],\n",
       "       [153282.38],\n",
       "       [199759.96],\n",
       "       [184307.35],\n",
       "       [242261.83],\n",
       "       [115200.33],\n",
       "       [ 99490.75],\n",
       "       [131005.76],\n",
       "       [158733.99]])"
      ]
     },
     "execution_count": 34,
     "metadata": {},
     "output_type": "execute_result"
    }
   ],
   "source": [
    "y_test.values"
   ]
  },
  {
   "cell_type": "markdown",
   "id": "f2f871e1-42af-41f3-9ab3-dbfecec7e3d9",
   "metadata": {},
   "source": [
    "### MAE"
   ]
  },
  {
   "cell_type": "code",
   "execution_count": 35,
   "id": "6b2a67c7-9746-4aa5-a823-c4c2b7c5ee8b",
   "metadata": {},
   "outputs": [
    {
     "data": {
      "text/plain": [
       "4793.2668379190945"
      ]
     },
     "execution_count": 35,
     "metadata": {},
     "output_type": "execute_result"
    }
   ],
   "source": [
    "mean_absolute_error(y_test,y_pred)"
   ]
  },
  {
   "cell_type": "code",
   "execution_count": 36,
   "id": "eeb273ca-3353-4ea1-be06-e24e54b4b7de",
   "metadata": {},
   "outputs": [
    {
     "data": {
      "text/plain": [
       "42765360.65268922"
      ]
     },
     "execution_count": 36,
     "metadata": {},
     "output_type": "execute_result"
    }
   ],
   "source": [
    "mean_squared_error(y_test,y_pred)"
   ]
  },
  {
   "cell_type": "markdown",
   "id": "f7fa44cc-a8ff-4617-a9f6-11f6f767e2bf",
   "metadata": {},
   "source": [
    "## RMSE"
   ]
  },
  {
   "cell_type": "code",
   "execution_count": 37,
   "id": "5329ce17-06ed-4fa8-844e-98003de99d97",
   "metadata": {},
   "outputs": [],
   "source": [
    "import pandas as pd\n",
    "from sklearn.metrics import mean_squared_error"
   ]
  },
  {
   "cell_type": "code",
   "execution_count": 38,
   "id": "704ffe24-58ee-4299-a2c2-3786acd9ec99",
   "metadata": {},
   "outputs": [],
   "source": [
    "MSE=mean_squared_error(y_test,y_pred)"
   ]
  },
  {
   "cell_type": "code",
   "execution_count": 39,
   "id": "97192455-c616-4675-8b02-dd9cd8c4e3ef",
   "metadata": {},
   "outputs": [],
   "source": [
    "RMSE=MSE**0.5"
   ]
  },
  {
   "cell_type": "code",
   "execution_count": 40,
   "id": "2766b98e-63b8-46b2-87e7-836f09086ba4",
   "metadata": {},
   "outputs": [
    {
     "name": "stdout",
     "output_type": "stream",
     "text": [
      "y_test shape: (10, 1)\n",
      "y_pred shape: (10, 1)\n"
     ]
    }
   ],
   "source": [
    "print('y_test shape:', y_test.shape)\n",
    "print('y_pred shape:', y_pred.shape)"
   ]
  },
  {
   "cell_type": "code",
   "execution_count": 41,
   "id": "d92a1a67-8ccc-4571-9cc8-2068549e081e",
   "metadata": {},
   "outputs": [],
   "source": [
    "y_test_values = y_test.values.flatten()  # Flatten y_test if it's not already 1-dimensional\n",
    "y_pred_values = y_pred.flatten()  "
   ]
  },
  {
   "cell_type": "code",
   "execution_count": 42,
   "id": "37755e8a-6af3-4d39-9e47-11df3b50d220",
   "metadata": {},
   "outputs": [],
   "source": [
    "data_rmse={'Actual(y_test)':y_test_values,'Predicated(y_pred)':y_pred_values}\n",
    "df_rmse=pd.DataFrame(data_rmse)"
   ]
  },
  {
   "cell_type": "code",
   "execution_count": 43,
   "id": "9adf310b-e28f-4df6-9edc-c35ddfc2c3a8",
   "metadata": {},
   "outputs": [
    {
     "data": {
      "text/html": [
       "<div>\n",
       "<style scoped>\n",
       "    .dataframe tbody tr th:only-of-type {\n",
       "        vertical-align: middle;\n",
       "    }\n",
       "\n",
       "    .dataframe tbody tr th {\n",
       "        vertical-align: top;\n",
       "    }\n",
       "\n",
       "    .dataframe thead th {\n",
       "        text-align: right;\n",
       "    }\n",
       "</style>\n",
       "<table border=\"1\" class=\"dataframe\">\n",
       "  <thead>\n",
       "    <tr style=\"text-align: right;\">\n",
       "      <th></th>\n",
       "      <th>Actual(y_test)</th>\n",
       "      <th>Predicated(y_pred)</th>\n",
       "    </tr>\n",
       "  </thead>\n",
       "  <tbody>\n",
       "    <tr>\n",
       "      <th>0</th>\n",
       "      <td>140708.19</td>\n",
       "      <td>124061.284711</td>\n",
       "    </tr>\n",
       "    <tr>\n",
       "      <th>1</th>\n",
       "      <td>92559.73</td>\n",
       "      <td>96009.237988</td>\n",
       "    </tr>\n",
       "    <tr>\n",
       "      <th>2</th>\n",
       "      <td>153282.38</td>\n",
       "      <td>149637.263608</td>\n",
       "    </tr>\n",
       "    <tr>\n",
       "      <th>3</th>\n",
       "      <td>199759.96</td>\n",
       "      <td>205786.532294</td>\n",
       "    </tr>\n",
       "    <tr>\n",
       "      <th>4</th>\n",
       "      <td>184307.35</td>\n",
       "      <td>177636.763495</td>\n",
       "    </tr>\n",
       "    <tr>\n",
       "      <th>5</th>\n",
       "      <td>242261.83</td>\n",
       "      <td>242765.185978</td>\n",
       "    </tr>\n",
       "    <tr>\n",
       "      <th>6</th>\n",
       "      <td>115200.33</td>\n",
       "      <td>113906.999724</td>\n",
       "    </tr>\n",
       "    <tr>\n",
       "      <th>7</th>\n",
       "      <td>99490.75</td>\n",
       "      <td>104935.144159</td>\n",
       "    </tr>\n",
       "    <tr>\n",
       "      <th>8</th>\n",
       "      <td>131005.76</td>\n",
       "      <td>134532.352380</td>\n",
       "    </tr>\n",
       "    <tr>\n",
       "      <th>9</th>\n",
       "      <td>158733.99</td>\n",
       "      <td>159460.297120</td>\n",
       "    </tr>\n",
       "  </tbody>\n",
       "</table>\n",
       "</div>"
      ],
      "text/plain": [
       "   Actual(y_test)  Predicated(y_pred)\n",
       "0       140708.19       124061.284711\n",
       "1        92559.73        96009.237988\n",
       "2       153282.38       149637.263608\n",
       "3       199759.96       205786.532294\n",
       "4       184307.35       177636.763495\n",
       "5       242261.83       242765.185978\n",
       "6       115200.33       113906.999724\n",
       "7        99490.75       104935.144159\n",
       "8       131005.76       134532.352380\n",
       "9       158733.99       159460.297120"
      ]
     },
     "execution_count": 43,
     "metadata": {},
     "output_type": "execute_result"
    }
   ],
   "source": [
    "df_rmse"
   ]
  },
  {
   "cell_type": "markdown",
   "id": "4c4ff099-aac0-48ba-a187-529329a45028",
   "metadata": {},
   "source": [
    "## CONCLUSION"
   ]
  },
  {
   "cell_type": "markdown",
   "id": "9a9d7320-cafd-4c11-988a-a2d8f3ee54fc",
   "metadata": {},
   "source": [
    "##### The goal of this analysis is to build a predictive model that can accurately forecast a company's profit based on its expenditures in\n",
    "##### productivity, management, and promotions, as well as its state of operation."
   ]
  },
  {
   "cell_type": "markdown",
   "id": "3c481e70-6c27-438a-8c8c-f5c364d211d3",
   "metadata": {},
   "source": [
    "## INSIGHTS"
   ]
  },
  {
   "cell_type": "code",
   "execution_count": null,
   "id": "25dedbf7-2dfa-43a5-aef6-9fcf5009c42f",
   "metadata": {},
   "outputs": [],
   "source": [
    "1.Linear regression alogrithm machine learning\n",
    "1.corelation\n",
    "2.Extract correlation coffecient between data1 and data2\n",
    "3.train_test_split\n",
    "4.Fitting the dataset\n",
    "5.MAE,RMSE\n"
   ]
  }
 ],
 "metadata": {
  "kernelspec": {
   "display_name": "Python 3 (ipykernel)",
   "language": "python",
   "name": "python3"
  },
  "language_info": {
   "codemirror_mode": {
    "name": "ipython",
    "version": 3
   },
   "file_extension": ".py",
   "mimetype": "text/x-python",
   "name": "python",
   "nbconvert_exporter": "python",
   "pygments_lexer": "ipython3",
   "version": "3.12.3"
  }
 },
 "nbformat": 4,
 "nbformat_minor": 5
}
